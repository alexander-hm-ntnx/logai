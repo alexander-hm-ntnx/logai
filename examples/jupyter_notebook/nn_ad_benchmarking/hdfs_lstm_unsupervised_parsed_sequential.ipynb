{
 "cells": [
  {
   "cell_type": "markdown",
   "metadata": {},
   "source": [
    "### Log Anomaly Detection on HDFS Dataset using LSTM based models\n",
    "This is a running example of a Log Anomaly Detection on public dataset HDFS. \n",
    "\n",
    "In `logai/applications/openset/anomaly_detection/openset_anomaly_detection_workflow.py` you can find an automated way of running the end-to-end log anomaly detection pipeline on some of the standard open log datasets (HDFS, BGL) on a variety of experimental configurations and using different log anomaly detection models\n"
   ]
  },
  {
   "cell_type": "code",
   "execution_count": 11,
   "metadata": {},
   "outputs": [],
   "source": [
    "import os \n",
    "from logai.applications.openset.anomaly_detection.openset_anomaly_detection_workflow import OpenSetADWorkflowConfig, validate_config_dict\n",
    "from logai.utils.file_utils import read_file\n",
    "from logai.utils.dataset_utils import split_train_dev_test_for_anomaly_detection\n",
    "import logging \n",
    "from logai.dataloader.data_loader import FileDataLoader\n",
    "from logai.preprocess.hdfs_preprocessor import HDFSPreprocessor\n",
    "from logai.information_extraction.log_parser import LogParser\n",
    "from logai.preprocess.openset_partitioner import OpenSetPartitioner\n",
    "from logai.analysis.nn_anomaly_detector import NNAnomalyDetector\n",
    "from logai.information_extraction.log_vectorizer import LogVectorizer\n",
    "from logai.utils import constants"
   ]
  },
  {
   "attachments": {},
   "cell_type": "markdown",
   "metadata": {},
   "source": [
    "### Loading config from yaml \n",
    "LogAI allows loading config from yaml file. Check out hdfs_lstm_unsupervised_parsed_sequential_config.yaml file to see the entire workflow config \n",
    "\n",
    "This notebook follows the configuration where we apply log parsing, take sequential log features and apply unsupervised anomaly detection using LSTM mdoels. \n",
    "\n",
    "For other configurations(for the same dataset), like parse-free workflow or applying semantic log features or applying supervised anomaly detection or using CNN or Transformer or LogBERT other neural model would work perfectly with this workflow code itself. The only change needed is the config yaml file. Check out some of the other config files provided in the `configs` dir corresponding to those settings \n",
    "- `hdfs_lstm_unsupervised_nonparsed_sequential_config.yaml`\n",
    "- `hdfs_lstm_unsupervised_parsed_semantic_config.yaml`\n",
    "- `hdfs_lstm_supervised_parsed_sequential_config.yaml`\n",
    "- `hdfs_logbert_config.yaml`\n",
    "\n",
    "Since the processing is a little heavy and mostly for illustration purposes, we will also be dumping intermediate outputs of this notebook in the `output_dir` mentioned in the config yaml file (by default it would be a `temp_dir` in this folder). You can purge the directory whenever u need "
   ]
  },
  {
   "cell_type": "code",
   "execution_count": 12,
   "metadata": {},
   "outputs": [],
   "source": [
    "config_path = \"configs/hdfs_lstm_unsupervised_parsed_sequential_config.yaml\"\n",
    "config_parsed = read_file(config_path)\n",
    "config_dict = config_parsed[\"workflow_config\"]\n",
    "validate_config_dict(config_dict)\n",
    "config = OpenSetADWorkflowConfig.from_dict(config_dict)"
   ]
  },
  {
   "cell_type": "markdown",
   "metadata": {},
   "source": [
    "### Load Data using FileDataLoader \n",
    "FileDataLoader takes file input (.csv or .log or other unspecified format) and loads the data as a LogRecordObject. Most of the remaining components in the pipeline uses this LogRecordObject as input/output"
   ]
  },
  {
   "cell_type": "code",
   "execution_count": 13,
   "metadata": {},
   "outputs": [
    {
     "name": "stdout",
     "output_type": "stream",
     "text": [
      "0       Receiving block blk_-1608999687919862906 src: ...\n",
      "1       BLOCK* NameSystem.allocateBlock: /mnt/hadoop/m...\n",
      "2       Receiving block blk_-1608999687919862906 src: ...\n",
      "3       Receiving block blk_-1608999687919862906 src: ...\n",
      "4       PacketResponder 1 for block blk_-1608999687919...\n",
      "                              ...                        \n",
      "4514    Deleting block blk_-2126554733521224025 file /...\n",
      "4515    Deleting block blk_-66330728533676520 file /mn...\n",
      "4516    Deleting block blk_872694497849122755 file /mn...\n",
      "4517    Deleting block blk_3947106522258141922 file /m...\n",
      "4518    Deleting block blk_-774246298521956028 file /m...\n",
      "Name: logline, Length: 4519, dtype: object\n"
     ]
    }
   ],
   "source": [
    "dataloader = FileDataLoader(config.data_loader_config)\n",
    "logrecord = dataloader.load_data()\n",
    "print (logrecord.body[constants.LOGLINE_NAME])"
   ]
  },
  {
   "cell_type": "markdown",
   "metadata": {},
   "source": [
    "### Preprocess loaded data using dataset specific Preprocessor (HDFSPreprocessor)\n",
    "Each dataset has its own Preprocessor class (e.g. HDFSPreprocessor for HDFS), which is inherited from from `logai.preprocess.preprocessor.Preprocessor`. \n",
    "\n",
    "Similarly if you want to add your custom dataset you also need to add the CustomPreprocessor object. The main public method of preprocessor is `clean_log` whose input/output is a LogRecordObject\n",
    "\n",
    "This is the only step in the entire pipeline that is dataset-specific. "
   ]
  },
  {
   "cell_type": "code",
   "execution_count": 14,
   "metadata": {},
   "outputs": [
    {
     "name": "stdout",
     "output_type": "stream",
     "text": [
      "0           Receiving block BLOCK src IP INT dest IP INT \n",
      "1       BLOCK NameSystem.allocateBlock /mnt/hadoop/map...\n",
      "2           Receiving block BLOCK src IP INT dest IP INT \n",
      "3           Receiving block BLOCK src IP INT dest IP INT \n",
      "4         PacketResponder INT for block BLOCK terminating\n",
      "                              ...                        \n",
      "4514    Deleting block BLOCK file /mnt/hadoop/dfs/data...\n",
      "4515    Deleting block BLOCK file /mnt/hadoop/dfs/data...\n",
      "4516    Deleting block BLOCK file /mnt/hadoop/dfs/data...\n",
      "4517    Deleting block BLOCK file /mnt/hadoop/dfs/data...\n",
      "4518    Deleting block BLOCK file /mnt/hadoop/dfs/data...\n",
      "Name: logline, Length: 4519, dtype: object\n"
     ]
    }
   ],
   "source": [
    "preprocessor = HDFSPreprocessor(config.preprocessor_config, config.label_filepath)\n",
    "preprocessed_filepath = os.path.join(config.output_dir, 'HDFS_5k_processed.csv')            \n",
    "logrecord = preprocessor.clean_log(logrecord)\n",
    "logrecord.save_to_csv(preprocessed_filepath)\n",
    "print (logrecord.body[constants.LOGLINE_NAME])"
   ]
  },
  {
   "cell_type": "markdown",
   "metadata": {},
   "source": [
    "### Parsing unstructured log data using LogParser\n",
    "If the `parse_logline` of OpenSetADWorkflowConfig config object is True, then the preprocessed log data is parsed using the parsing algorithm and hyperparameters mentioned in the confi yaml file \n",
    "\n",
    "The input and output of the LogParser is the LogRecordObject"
   ]
  },
  {
   "cell_type": "code",
   "execution_count": 15,
   "metadata": {},
   "outputs": [
    {
     "name": "stdout",
     "output_type": "stream",
     "text": [
      "0            Receiving block BLOCK src IP INT dest IP INT\n",
      "1       BLOCK NameSystem.allocateBlock /mnt/hadoop/map...\n",
      "2            Receiving block BLOCK src IP INT dest IP INT\n",
      "3            Receiving block BLOCK src IP INT dest IP INT\n",
      "4         PacketResponder INT for block BLOCK terminating\n",
      "                              ...                        \n",
      "4514    Deleting block BLOCK file /mnt/hadoop/dfs/data...\n",
      "4515    Deleting block BLOCK file /mnt/hadoop/dfs/data...\n",
      "4516    Deleting block BLOCK file /mnt/hadoop/dfs/data...\n",
      "4517    Deleting block BLOCK file /mnt/hadoop/dfs/data...\n",
      "4518    Deleting block BLOCK file /mnt/hadoop/dfs/data...\n",
      "Name: logline, Length: 4519, dtype: object\n"
     ]
    }
   ],
   "source": [
    "parser = LogParser(config.log_parser_config)\n",
    "parsed_result = parser.parse(logrecord.body[constants.LOGLINE_NAME])\n",
    "logrecord.body[constants.LOGLINE_NAME] = parsed_result[constants.PARSED_LOGLINE_NAME]\n",
    "parsed_filepath = os.path.join(config.output_dir, 'HDFS_5k_parsed.csv')\n",
    "logrecord.save_to_csv(parsed_filepath)\n",
    "print (logrecord.body[constants.LOGLINE_NAME])"
   ]
  },
  {
   "cell_type": "markdown",
   "metadata": {},
   "source": [
    "### Partitioning or segmenting the log data using the OpenSetPartitioner\n",
    "The next step in the log anomaly detection pipeline involves partitioning the log-lines into segments. \n",
    "\n",
    "This is particularly important for Sequence based Anomaly Detection models which take sequences of loglines as input and learns the representation at the sequence-level in order to detect anomaly patterns at the level of individual loglines as well as log sequences. "
   ]
  },
  {
   "cell_type": "code",
   "execution_count": 16,
   "metadata": {},
   "outputs": [
    {
     "name": "stdout",
     "output_type": "stream",
     "text": [
      "0       Receiving block BLOCK src IP INT dest IP INT[S...\n",
      "1       Receiving block BLOCK src IP INT dest IP INT[S...\n",
      "2       BLOCK NameSystem.allocateBlock /mnt/hadoop/map...\n",
      "3       Receiving block BLOCK src IP INT dest IP INT[S...\n",
      "4       Receiving block BLOCK src IP INT dest IP INT[S...\n",
      "                              ...                        \n",
      "3417    IP INT Got exception while serving BLOCK to IP...\n",
      "3418    IP INT Got exception while serving BLOCK to IP...\n",
      "3419    IP INT Got exception while serving BLOCK to IP...\n",
      "3420    IP INT Got exception while serving BLOCK to IP...\n",
      "3421    IP INT Got exception while serving BLOCK to IP...\n",
      "Name: logline, Length: 3422, dtype: object\n"
     ]
    }
   ],
   "source": [
    "partitioner = OpenSetPartitioner(config.open_set_partitioner_config)\n",
    "partitioned_filepath = os.path.join(config.output_dir, 'HDFS_5k_parsed_sliding10.csv')\n",
    "logrecord = partitioner.partition(logrecord)\n",
    "logrecord.save_to_csv(partitioned_filepath)\n",
    "print (logrecord.body[constants.LOGLINE_NAME])"
   ]
  },
  {
   "cell_type": "markdown",
   "metadata": {},
   "source": [
    "### Creating Train, Dev, Test splits\n",
    "This step splits the log dataset in form of a LogRecordObject) and generates LogRecordObject objects for each of train, dev and test splits. "
   ]
  },
  {
   "cell_type": "code",
   "execution_count": 17,
   "metadata": {},
   "outputs": [
    {
     "name": "stdout",
     "output_type": "stream",
     "text": [
      "indices_train/dev/test:  2242 252 984\n",
      "Train/Dev/Test Anomalous 0 0 424\n",
      "Train/Dev/Test Normal 2242 252 560\n"
     ]
    }
   ],
   "source": [
    "train_filepath = os.path.join(config.output_dir, 'HDFS_5k_parsed_sliding10_unsupervised_train.csv')\n",
    "dev_filepath = os.path.join(config.output_dir, 'HDFS_5k_parsed_sliding10_unsupervised_dev.csv')\n",
    "test_filepath = os.path.join(config.output_dir, 'HDFS_5k_parsed_sliding10_unsupervised_test.csv')\n",
    "\n",
    "(train_data, dev_data, test_data) = split_train_dev_test_for_anomaly_detection(\n",
    "                logrecord,training_type=config.training_type,\n",
    "                test_data_frac_neg_class=config.test_data_frac_neg,\n",
    "                test_data_frac_pos_class=config.test_data_frac_pos,\n",
    "                shuffle=config.train_test_shuffle\n",
    "            )\n",
    "\n",
    "train_data.save_to_csv(train_filepath)\n",
    "dev_data.save_to_csv(dev_filepath)\n",
    "test_data.save_to_csv(test_filepath)\n",
    "print ('Train/Dev/Test Anomalous', len(train_data.labels[train_data.labels[constants.LABELS]==1]), \n",
    "                                   len(dev_data.labels[dev_data.labels[constants.LABELS]==1]), \n",
    "                                   len(test_data.labels[test_data.labels[constants.LABELS]==1]))\n",
    "print ('Train/Dev/Test Normal', len(train_data.labels[train_data.labels[constants.LABELS]==0]), \n",
    "                                   len(dev_data.labels[dev_data.labels[constants.LABELS]==0]), \n",
    "                                   len(test_data.labels[test_data.labels[constants.LABELS]==0]))"
   ]
  },
  {
   "cell_type": "markdown",
   "metadata": {},
   "source": [
    "### Vectorizing Log data into Log Features using LogVectorizer\n",
    "This step transforms the raw log (text) data into machine-readable vectors. \n",
    "\n",
    "For most of the neural anomaly detectors in this library, the exact nature of log vectorization to be applied might be tightly bound to the type of anomaly detector applied (for e.g. for LogBERT model, the corresponding LogBERT vectorizer has to be applied). \n",
    "\n",
    "For the more traditional statistical ML based anomaly detectors (which typically take the input features in form of pandas DataFrame object), you can apply any of the available vectorizers or implement a custom convertor before giving the vectorizer's output to the anomaly detector.\n",
    "\n",
    "For neural anomaly detection models (LSTM, Transformer, CNN) there are two types of LogVectorizers available - Sequential and Semantics which repectively represent log sequences as sequence of log-ids (i.e. ids of loglines) or sequences of token ids.  \n",
    "\n",
    "- `fit` method of logVectorizer is for any tailoring of the logVectorizer model towards the given log training dataset (e.g. a Word2Vec or FastText based logVectorizer model might need to be trained on the given log training data or simply pruning and constructing a vocabulary for the log data from the standard pretrained Word2Vec model\n",
    "\n",
    "- `transform` method of logVectorizer transforms the raw log data (LogRecordObject) to log features (whose data-type is govered by the logVectorizer class, for e.g. logBERT based logVectorizer generates an output of HFDataset (HuggingFace Dataset object) type"
   ]
  },
  {
   "cell_type": "code",
   "execution_count": 18,
   "metadata": {},
   "outputs": [],
   "source": [
    "vectorizer = LogVectorizer(config.log_vectorizer_config)\n",
    "vectorizer.fit(train_data)\n",
    "train_features = vectorizer.transform(train_data)\n",
    "dev_features = vectorizer.transform(dev_data)\n",
    "test_features = vectorizer.transform(test_data)"
   ]
  },
  {
   "cell_type": "markdown",
   "metadata": {},
   "source": [
    "### Training Neural Anomaly Detection model on log features using NNAnomalyDetector\n",
    "This step constructs a neural anomaly detector model (for e.g. lstm based sequence anomaly detector which is a type of a Forecast based neural anomaly detector. It can be used in two modes \n",
    "\n",
    "- Primarily as an unsupervised learning model, where it learns to forecast the id of the next log-line, given an input log-sequence. During inference, based on the model's confidence in the forecasting for a given log sequence, the model infers whether the input is anomalous or not. In the unsupervised mode, it assumes that the training data is entirely consisting of normal log sequence. Presence of any anomalous log sequence is permissible but will degrade the model performance\n",
    "\n",
    "- It can also be used in the standard supervised learning mode, where given a log sequence as input, the model learns to directly predict the label (anomalous or not). In this mode the model needs to see both normal and anomalous logs during training. In many situations the supervised model can actually perform somewhat worser than unsupervised version, because of overfitting or bias towards anomaly patterns seen during training, especially if there are only rare occurrences of anomalies in the train data.\n",
    "\n",
    "In this example we are using the unsupervised mode of the LSTM based Anomaly Detector"
   ]
  },
  {
   "cell_type": "code",
   "execution_count": 19,
   "metadata": {},
   "outputs": [
    {
     "name": "stderr",
     "output_type": "stream",
     "text": [
      "INFO:root:Start training on 561 batches with cpu.\n",
      "INFO:root:Batch 100, training loss : 2.939990816116333\n",
      "INFO:root:Batch 200, training loss : 2.428830187767744\n",
      "INFO:root:Batch 300, training loss : 2.0036957042912644\n",
      "INFO:root:Batch 400, training loss : 1.7092920583486557\n",
      "INFO:root:Batch 500, training loss : 1.4959659768342972\n",
      "INFO:root:Epoch 1/10, training loss: 1.3980271019400123 [1.815274953842163s]\n",
      "INFO:root:Evaluating dev data.\n",
      "INFO:root:Dev Loss: 0.5559609752325785\n",
      "INFO:root:Dev acc @ top-1: 0.8968253968253969  correct: 226 out of 252\n",
      "INFO:root:Saving model to temp_output/HDFS_5k_parsed_sliding10_unsupervised_AD/model_lstm/model.ckpt\n",
      "INFO:root:Batch 100, training loss : 1.8989616890251637\n",
      "INFO:root:Batch 200, training loss : 1.2209377435222268\n",
      "INFO:root:Batch 300, training loss : 0.9620924708247185\n",
      "INFO:root:Batch 400, training loss : 0.8290997846238315\n",
      "INFO:root:Batch 500, training loss : 0.7466940290927887\n",
      "INFO:root:Epoch 2/10, training loss: 0.7117053109840382 [1.9979169368743896s]\n",
      "INFO:root:Evaluating dev data.\n",
      "INFO:root:Dev Loss: 0.39251204059710576\n",
      "INFO:root:Dev acc @ top-1: 0.9087301587301587  correct: 229 out of 252\n",
      "INFO:root:Saving model to temp_output/HDFS_5k_parsed_sliding10_unsupervised_AD/model_lstm/model.ckpt\n",
      "INFO:root:Batch 100, training loss : 1.539303488433361\n",
      "INFO:root:Batch 200, training loss : 0.9829099793918431\n",
      "INFO:root:Batch 300, training loss : 0.7721525306627154\n",
      "INFO:root:Batch 400, training loss : 0.6699836429953575\n",
      "INFO:root:Batch 500, training loss : 0.608748953551054\n",
      "INFO:root:Epoch 3/10, training loss: 0.5826120134310235 [1.8254368305206299s]\n",
      "INFO:root:Evaluating dev data.\n",
      "INFO:root:Dev Loss: 0.33747215214229764\n",
      "INFO:root:Dev acc @ top-1: 0.9166666666666666  correct: 231 out of 252\n",
      "INFO:root:Saving model to temp_output/HDFS_5k_parsed_sliding10_unsupervised_AD/model_lstm/model.ckpt\n",
      "INFO:root:Batch 100, training loss : 0.8754908653348684\n",
      "INFO:root:Batch 200, training loss : 0.6271574824675917\n",
      "INFO:root:Batch 300, training loss : 0.5230889700477322\n",
      "INFO:root:Batch 400, training loss : 0.47667192263528707\n",
      "INFO:root:Batch 500, training loss : 0.44921985182911156\n",
      "INFO:root:Epoch 4/10, training loss: 0.4373671249918135 [2.0123300552368164s]\n",
      "INFO:root:Evaluating dev data.\n",
      "INFO:root:Dev Loss: 0.31015254864617\n",
      "INFO:root:Dev acc @ top-1: 0.9206349206349206  correct: 232 out of 252\n",
      "INFO:root:Saving model to temp_output/HDFS_5k_parsed_sliding10_unsupervised_AD/model_lstm/model.ckpt\n",
      "INFO:root:Batch 100, training loss : 0.621881150547415\n",
      "INFO:root:Batch 200, training loss : 0.48842965772375463\n",
      "INFO:root:Batch 300, training loss : 0.42476719869921603\n",
      "INFO:root:Batch 400, training loss : 0.3996037313528359\n",
      "INFO:root:Batch 500, training loss : 0.38496964030712844\n",
      "INFO:root:Epoch 5/10, training loss: 0.37833152388416746 [1.872452735900879s]\n",
      "INFO:root:Evaluating dev data.\n",
      "INFO:root:Dev Loss: 0.29412303261813666\n",
      "INFO:root:Dev acc @ top-1: 0.9206349206349206  correct: 232 out of 252\n",
      "INFO:root:Saving model to temp_output/HDFS_5k_parsed_sliding10_unsupervised_AD/model_lstm/model.ckpt\n",
      "INFO:root:Batch 100, training loss : 0.5544613977149129\n",
      "INFO:root:Batch 200, training loss : 0.4478160133678466\n",
      "INFO:root:Batch 300, training loss : 0.39433788823895155\n",
      "INFO:root:Batch 400, training loss : 0.374641045241151\n",
      "INFO:root:Batch 500, training loss : 0.36338524430431424\n",
      "INFO:root:Epoch 6/10, training loss: 0.3578942478945688 [1.775710105895996s]\n",
      "INFO:root:Evaluating dev data.\n",
      "INFO:root:Dev Loss: 0.28334872726173627\n",
      "INFO:root:Dev acc @ top-1: 0.9206349206349206  correct: 232 out of 252\n",
      "INFO:root:Saving model to temp_output/HDFS_5k_parsed_sliding10_unsupervised_AD/model_lstm/model.ckpt\n",
      "INFO:root:Batch 100, training loss : 0.5249564347788691\n",
      "INFO:root:Batch 200, training loss : 0.4284222838561982\n",
      "INFO:root:Batch 300, training loss : 0.3791226083195458\n",
      "INFO:root:Batch 400, training loss : 0.36171668221009895\n",
      "INFO:root:Batch 500, training loss : 0.3518996483273804\n",
      "INFO:root:Epoch 7/10, training loss: 0.3467196134191319 [1.925961971282959s]\n",
      "INFO:root:Evaluating dev data.\n",
      "INFO:root:Dev Loss: 0.275180632810271\n",
      "INFO:root:Dev acc @ top-1: 0.9206349206349206  correct: 232 out of 252\n",
      "INFO:root:Saving model to temp_output/HDFS_5k_parsed_sliding10_unsupervised_AD/model_lstm/model.ckpt\n",
      "INFO:root:Batch 100, training loss : 0.5064339463505894\n",
      "INFO:root:Batch 200, training loss : 0.4156969416933134\n",
      "INFO:root:Batch 300, training loss : 0.368916602137809\n",
      "INFO:root:Batch 400, training loss : 0.3528541907505132\n",
      "INFO:root:Batch 500, training loss : 0.343808646036312\n",
      "INFO:root:Epoch 8/10, training loss: 0.33874211984137886 [1.7323338985443115s]\n",
      "INFO:root:Evaluating dev data.\n",
      "INFO:root:Dev Loss: 0.26860555829036803\n",
      "INFO:root:Dev acc @ top-1: 0.9206349206349206  correct: 232 out of 252\n",
      "INFO:root:Saving model to temp_output/HDFS_5k_parsed_sliding10_unsupervised_AD/model_lstm/model.ckpt\n",
      "INFO:root:Batch 100, training loss : 0.4907503346260637\n",
      "INFO:root:Batch 200, training loss : 0.4050655591255054\n",
      "INFO:root:Batch 300, training loss : 0.3604242710862309\n",
      "INFO:root:Batch 400, training loss : 0.34562887696316463\n",
      "INFO:root:Batch 500, training loss : 0.33726320491731165\n",
      "INFO:root:Epoch 9/10, training loss: 0.3322631974842353 [1.739494800567627s]\n",
      "INFO:root:Evaluating dev data.\n",
      "INFO:root:Dev Loss: 0.2632877404786765\n",
      "INFO:root:Dev acc @ top-1: 0.9206349206349206  correct: 232 out of 252\n",
      "INFO:root:Saving model to temp_output/HDFS_5k_parsed_sliding10_unsupervised_AD/model_lstm/model.ckpt\n",
      "INFO:root:Batch 100, training loss : 0.4769016333203763\n",
      "INFO:root:Batch 200, training loss : 0.39570840587373823\n",
      "INFO:root:Batch 300, training loss : 0.35295271169083814\n",
      "INFO:root:Batch 400, training loss : 0.3390548218379263\n",
      "INFO:root:Batch 500, training loss : 0.33122824016120284\n",
      "INFO:root:Epoch 10/10, training loss: 0.3262278835626183 [1.7911696434020996s]\n",
      "INFO:root:Evaluating dev data.\n",
      "INFO:root:Dev Loss: 0.25945095777038546\n",
      "INFO:root:Dev acc @ top-1: 0.9206349206349206  correct: 232 out of 252\n",
      "INFO:root:Saving model to temp_output/HDFS_5k_parsed_sliding10_unsupervised_AD/model_lstm/model.ckpt\n",
      "INFO:root:Loading model from temp_output/HDFS_5k_parsed_sliding10_unsupervised_AD/model_lstm/model.ckpt\n"
     ]
    }
   ],
   "source": [
    "anomaly_detector = NNAnomalyDetector(config=config.nn_anomaly_detection_config)\n",
    "anomaly_detector.fit(train_features, dev_features)"
   ]
  },
  {
   "cell_type": "markdown",
   "metadata": {},
   "source": [
    "### Predicting Anomalous Log Sequences using the trained NNAnomalyDetector \n",
    "This step simply runs the predict method of the NNAnomalyDetctor, which takes the test log features and returns the prediction results. \n",
    "\n",
    "Currently the prediction results are raw python objects - For e.g. in this case, it returns a dict object which maintains some of the standard self-explanatory metrics (like F1, precision, recall) as well as a vector of instance-wise predictions and true labels. For other NNAnomalyDetector models, the data-type of the predict_results object might be different (for eg. for LogBERT model, the predict_results object returned is a pandas DataFrame consisting of the prediction results and evaluation metrics)"
   ]
  },
  {
   "cell_type": "code",
   "execution_count": 20,
   "metadata": {},
   "outputs": [
    {
     "name": "stderr",
     "output_type": "stream",
     "text": [
      "INFO:root:Evaluating test data.\n",
      "INFO:root:Finish inference. [0.1595320701599121s]\n",
      "INFO:root:Calculating acc sum.\n",
      "INFO:root:Finish generating store_df.\n",
      "INFO:root:Finish counting [0.04075789451599121s]\n",
      "INFO:root:Best result: f1: 1.0 rc: 1.0 pc: 1.0\n"
     ]
    },
    {
     "name": "stdout",
     "output_type": "stream",
     "text": [
      "{'f1': 1.0, 'rc': 1.0, 'pc': 1.0, 'pred': 0     1\n",
      "1     1\n",
      "2     1\n",
      "3     1\n",
      "4     1\n",
      "5     0\n",
      "6     0\n",
      "7     0\n",
      "8     0\n",
      "9     0\n",
      "10    0\n",
      "11    0\n",
      "12    0\n",
      "13    0\n",
      "14    0\n",
      "15    0\n",
      "16    1\n",
      "17    0\n",
      "18    0\n",
      "19    0\n",
      "20    0\n",
      "21    0\n",
      "22    0\n",
      "23    0\n",
      "24    1\n",
      "25    1\n",
      "26    0\n",
      "27    1\n",
      "28    1\n",
      "29    0\n",
      "Name: window_pred_anomaly_10, dtype: int64, 'true': 0     1\n",
      "1     1\n",
      "2     1\n",
      "3     1\n",
      "4     1\n",
      "5     0\n",
      "6     0\n",
      "7     0\n",
      "8     0\n",
      "9     0\n",
      "10    0\n",
      "11    0\n",
      "12    0\n",
      "13    0\n",
      "14    0\n",
      "15    0\n",
      "16    1\n",
      "17    0\n",
      "18    0\n",
      "19    0\n",
      "20    0\n",
      "21    0\n",
      "22    0\n",
      "23    0\n",
      "24    1\n",
      "25    1\n",
      "26    0\n",
      "27    1\n",
      "28    1\n",
      "29    0\n",
      "Name: window_anomalies, dtype: int64}\n"
     ]
    }
   ],
   "source": [
    "predict_results = anomaly_detector.predict(test_features)\n",
    "print (predict_results)"
   ]
  }
 ],
 "metadata": {
  "kernelspec": {
   "display_name": "Python 3 (ipykernel)",
   "language": "python",
   "name": "python3"
  },
  "language_info": {
   "codemirror_mode": {
    "name": "ipython",
    "version": 3
   },
   "file_extension": ".py",
   "mimetype": "text/x-python",
   "name": "python",
   "nbconvert_exporter": "python",
   "pygments_lexer": "ipython3",
   "version": "3.9.7"
  },
  "vscode": {
   "interpreter": {
    "hash": "40d3a090f54c6569ab1632332b64b2c03c39dcf918b08424e98f38b5ae0af88f"
   }
  }
 },
 "nbformat": 4,
 "nbformat_minor": 2
}
